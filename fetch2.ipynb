{
  "nbformat": 4,
  "nbformat_minor": 0,
  "metadata": {
    "colab": {
      "provenance": []
    },
    "kernelspec": {
      "name": "python3",
      "display_name": "Python 3"
    },
    "language_info": {
      "name": "python"
    }
  },
  "cells": [
    {
      "cell_type": "code",
      "execution_count": null,
      "metadata": {
        "id": "KgVE0n2nWSu7"
      },
      "outputs": [],
      "source": []
    },
    {
      "cell_type": "code",
      "execution_count": 1,
      "metadata": {
        "id": "3d8R5Ebn-Pxl",
        "colab": {
          "base_uri": "https://localhost:8080/"
        },
        "outputId": "835c8460-5be2-4db0-b4f7-fcf9f0bd5fac"
      },
      "outputs": [
        {
          "output_type": "stream",
          "name": "stderr",
          "text": [
            "[nltk_data] Downloading package punkt to /root/nltk_data...\n",
            "[nltk_data]   Unzipping tokenizers/punkt.zip.\n",
            "[nltk_data] Downloading package wordnet to /root/nltk_data...\n",
            "[nltk_data] Downloading package stopwords to /root/nltk_data...\n",
            "[nltk_data]   Unzipping corpora/stopwords.zip.\n"
          ]
        }
      ],
      "source": [
        "import numpy as np\n",
        "import pandas as pd\n",
        "import re\n",
        "from sklearn.model_selection import train_test_split\n",
        "from sklearn.metrics import mean_squared_error\n",
        "from sklearn.metrics.pairwise import cosine_similarity\n",
        "#from surprise import Reader, Dataset, KNNBasic, NormalPredictor,BaselineOnly,KNNWithMeans,KNNBaseline\n",
        "#from surprise import SVD, SVDpp, NMF, SlopeOne, CoClustering\n",
        "#from surprise.model_selection import cross_validate\n",
        "#from surprise.model_selection import GridSearchCV\n",
        "#from surprise import accuracy\n",
        "\n",
        "import random\n",
        "from ast import literal_eval\n",
        "from sklearn.feature_extraction.text import CountVectorizer\n",
        "\n",
        "from sklearn.feature_extraction.text import TfidfVectorizer\n",
        "from sklearn.metrics.pairwise import linear_kernel\n",
        "\n",
        "# plotting imports\n",
        "import matplotlib.pyplot as plt\n",
        "import seaborn as sns\n",
        "sns.set_style(\"darkgrid\")\n",
        "#matplotlib.style.use('ggplot')\n",
        "# for reading files from urls\n",
        "import urllib.request\n",
        "# display imports\n",
        "from IPython.display import display, IFrame\n",
        "from IPython.core.display import HTML\n",
        "\n",
        "import nltk\n",
        "from nltk.stem import WordNetLemmatizer\n",
        "from nltk.corpus import stopwords\n",
        "\n",
        "#Download required NLTK data\n",
        "nltk.download('punkt')\n",
        "nltk.download('wordnet')\n",
        "nltk.download('stopwords')\n",
        "\n",
        "from collections import defaultdict\n"
      ]
    },
    {
      "cell_type": "markdown",
      "source": [
        "Creating helper function to get part of speech"
      ],
      "metadata": {
        "id": "StUj9iCXWpNq"
      }
    },
    {
      "cell_type": "code",
      "source": [
        "#Function to preprocess the text: lowercase and remove punctuation\n",
        "def preprocess_text(text):\n",
        "    # Ensure that text is a string\n",
        "    if not isinstance(text, str):\n",
        "        return \"\"\n",
        "    # Convert text to lowercase\n",
        "    text = text.lower()\n",
        "    # Remove punctuation\n",
        "    text = re.sub(r'[^\\w\\s]', '', text)\n",
        "    return text\n",
        "\n",
        "#Reading the CSV files\n",
        "brand_category_df = pd.read_csv('brand_category.csv')\n",
        "categories_df = pd.read_csv('categories.csv')\n",
        "offer_retailer_df = pd.read_csv('offer_retailer.csv')\n",
        "\n",
        "#Preprocess the relevant columns using apply method\n",
        "brand_category_df['BRAND'] = brand_category_df['BRAND'].apply(preprocess_text)\n",
        "brand_category_df['BRAND_BELONGS_TO_CATEGORY'] = brand_category_df['BRAND_BELONGS_TO_CATEGORY'].apply(preprocess_text)\n",
        "#Remove list behavior\n",
        "brand_category_df['BRAND_BELONGS_TO_CATEGORY'] = brand_category_df['BRAND_BELONGS_TO_CATEGORY'].apply(lambda x: ', '.join(x) if isinstance(x, list) else x)\n",
        "\n",
        "\n",
        "categories_df['PRODUCT_CATEGORY'] = categories_df['PRODUCT_CATEGORY'].apply(preprocess_text)\n",
        "\n",
        "offer_retailer_df['OFFER'] = offer_retailer_df['OFFER'].astype(str).apply(preprocess_text)\n",
        "offer_retailer_df['RETAILER'] = offer_retailer_df['RETAILER'].astype(str).apply(preprocess_text)\n",
        "offer_retailer_df['BRAND'] = offer_retailer_df['BRAND'].astype(str).apply(preprocess_text)\n",
        "\n",
        "#If I need to save them back to CSV:\n",
        "brand_category_df.to_csv('processed_brand_category.csv', index=False)\n",
        "categories_df.to_csv('processed_categories.csv', index=False)\n",
        "offer_retailer_df.to_csv('processed_offer_retailer.csv', index=False)\n",
        "\n",
        "#To check the processed data\n",
        "print(brand_category_df.head())\n",
        "print(categories_df.head())\n",
        "print(offer_retailer_df.head())"
      ],
      "metadata": {
        "colab": {
          "base_uri": "https://localhost:8080/"
        },
        "id": "6qZ5i3dOWbju",
        "outputId": "f858b2f4-2a42-4724-b72f-74dcf646115b"
      },
      "execution_count": 2,
      "outputs": [
        {
          "output_type": "stream",
          "name": "stdout",
          "text": [
            "              BRAND BRAND_BELONGS_TO_CATEGORY  RECEIPTS\n",
            "0  caseys gen store          tobacco products   2950931\n",
            "1  caseys gen store                    mature   2859240\n",
            "2            equate              hair removal    893268\n",
            "3         palmolive                bath  body    542562\n",
            "4              dawn                bath  body    301844\n",
            "                            CATEGORY_ID            PRODUCT_CATEGORY  \\\n",
            "0  1f7d2fa7-a1d7-4969-aaf4-1244f232c175             red pasta sauce   \n",
            "1  3e48a9b3-1ab2-4f2d-867d-4a30828afeab  alfredo  white pasta sauce   \n",
            "2  09f3decc-aa93-460d-936c-0ddf06b055a3             cooking  baking   \n",
            "3  12a89b18-4c01-4048-94b2-0705e0a45f6b            packaged seafood   \n",
            "4  2caa015a-ca32-4456-a086-621446238783            feminine hygeine   \n",
            "\n",
            "  IS_CHILD_CATEGORY_TO  \n",
            "0          Pasta Sauce  \n",
            "1          Pasta Sauce  \n",
            "2               Pantry  \n",
            "3               Pantry  \n",
            "4    Health & Wellness  \n",
            "                                               OFFER            RETAILER  \\\n",
            "0       spend 50 on a fullpriced new club membership           sams club   \n",
            "1           beyond meat plantbased products spend 25                 nan   \n",
            "2           good humor viennetta frozen vanilla cake                 nan   \n",
            "3  butterball select varieties spend 10 at dillon...  dillons food store   \n",
            "4  gatorade fast twitch 12ounce 12 pack at amazon...              amazon   \n",
            "\n",
            "         BRAND  \n",
            "0    sams club  \n",
            "1  beyond meat  \n",
            "2   good humor  \n",
            "3   butterball  \n",
            "4     gatorade  \n"
          ]
        }
      ]
    },
    {
      "cell_type": "markdown",
      "source": [
        "Combining the Dataframes."
      ],
      "metadata": {
        "id": "YiTtSum2UW_b"
      }
    },
    {
      "cell_type": "code",
      "source": [
        "#This ends up with Offer and retailer mostly nan\n",
        "\n",
        "# Assume you've loaded your dataframes as brand_category_df, categories_df, and offer_retailer\n",
        "#combined_df = pd.merge(brand_category_df, offer_retailer_df, on='BRAND', how='left')\n",
        "#combined_df.head(25)"
      ],
      "metadata": {
        "id": "nMaOcSXPPkwg"
      },
      "execution_count": 3,
      "outputs": []
    },
    {
      "cell_type": "markdown",
      "source": [
        "Function for lemmatizing and removing stop words"
      ],
      "metadata": {
        "id": "391ZW_wNNk6m"
      }
    },
    {
      "cell_type": "code",
      "source": [
        "def preprocess_and_normalize(text):\n",
        "    # Ensure that text is a string\n",
        "    if not isinstance(text, str):\n",
        "        return \"\"\n",
        "\n",
        "    #Convert text to lowercase\n",
        "    text = text.lower()\n",
        "\n",
        "    #Remove punctuation\n",
        "    text = re.sub(r'[^\\w\\s]', '', text)\n",
        "\n",
        "    #Tokenize the text\n",
        "    tokens = nltk.word_tokenize(text)\n",
        "\n",
        "    #Initialize lemmatizer\n",
        "    lemmatizer = WordNetLemmatizer()\n",
        "\n",
        "    #Lemmatize and remove stop words\n",
        "    lemmatized_text = [lemmatizer.lemmatize(word) for word in tokens if word not in stopwords.words('english')]\n",
        "\n",
        "    #Join the words back into a string\n",
        "    return ' '.join(lemmatized_text)\n"
      ],
      "metadata": {
        "id": "F6GyL83YJong"
      },
      "execution_count": 4,
      "outputs": []
    },
    {
      "cell_type": "markdown",
      "source": [
        "Applying the processing and normalization function"
      ],
      "metadata": {
        "id": "QLauPWbbNpS0"
      }
    },
    {
      "cell_type": "code",
      "source": [
        "#Apply to your DataFrame columns\n",
        "brand_category_df['BRAND'] = brand_category_df['BRAND'].apply(preprocess_and_normalize)\n",
        "brand_category_df['BRAND_BELONGS_TO_CATEGORY'] = brand_category_df['BRAND_BELONGS_TO_CATEGORY'].apply(preprocess_and_normalize)\n",
        "\n",
        "categories_df['PRODUCT_CATEGORY'] = categories_df['PRODUCT_CATEGORY'].apply(preprocess_and_normalize)\n",
        "\n",
        "offer_retailer_df['OFFER'] = offer_retailer_df['OFFER'].astype(str).apply(preprocess_and_normalize)\n",
        "offer_retailer_df['RETAILER'] = offer_retailer_df['RETAILER'].astype(str).apply(preprocess_and_normalize)\n",
        "offer_retailer_df['BRAND'] = offer_retailer_df['BRAND'].astype(str).apply(preprocess_and_normalize)\n"
      ],
      "metadata": {
        "id": "M1N7Wru3JoqV"
      },
      "execution_count": 5,
      "outputs": []
    },
    {
      "cell_type": "markdown",
      "source": [
        "Saving the data for later."
      ],
      "metadata": {
        "id": "Wp_bf_fGNv2C"
      }
    },
    {
      "cell_type": "code",
      "source": [
        "#brand_category_df.to_csv('processed_brand_category.csv', index=False)\n",
        "#categories_df.to_csv('processed_categories.csv', index=False)\n",
        "#offer_retailer_df.to_csv('processed_offer_retailer.csv', index=False)\n"
      ],
      "metadata": {
        "id": "c7Ps8h6wJotP"
      },
      "execution_count": 6,
      "outputs": []
    },
    {
      "cell_type": "markdown",
      "source": [
        "Trying to implement TF-IDF matrix for offers"
      ],
      "metadata": {
        "id": "aw20pOY5jt8O"
      }
    },
    {
      "cell_type": "code",
      "source": [
        "#Initialize a TF-IDF Vectorizer\n",
        "vectorizer = TfidfVectorizer()\n",
        "\n",
        "#Create TF-IDF matrix for the 'OFFER' column\n",
        "tfidf_matrix = vectorizer.fit_transform(offer_retailer_df['OFFER'])\n"
      ],
      "metadata": {
        "id": "MJlkMkKXN1Av"
      },
      "execution_count": 7,
      "outputs": []
    },
    {
      "cell_type": "markdown",
      "source": [
        "Trying to process the search query"
      ],
      "metadata": {
        "id": "UcsEu69Pj2B1"
      }
    },
    {
      "cell_type": "code",
      "source": [
        "def process_query(query):\n",
        "    processed_query = preprocess_and_normalize(query)\n",
        "    query_tfidf = vectorizer.transform([processed_query])\n",
        "    return query_tfidf\n"
      ],
      "metadata": {
        "id": "Ch95L4OoN1C7"
      },
      "execution_count": 8,
      "outputs": []
    },
    {
      "cell_type": "markdown",
      "source": [
        "Computing the cosine similarity"
      ],
      "metadata": {
        "id": "v1P86Nmqj687"
      }
    },
    {
      "cell_type": "code",
      "source": [
        "from sklearn.metrics.pairwise import cosine_similarity\n",
        "\n",
        "def find_similar_offers(query):\n",
        "    query_tfidf = process_query(query)\n",
        "    cosine_similarities = cosine_similarity(query_tfidf, tfidf_matrix).flatten()\n",
        "    return cosine_similarities\n"
      ],
      "metadata": {
        "id": "b77PwljSf5xO"
      },
      "execution_count": 9,
      "outputs": []
    },
    {
      "cell_type": "markdown",
      "source": [
        "Retrieving the top matches"
      ],
      "metadata": {
        "id": "VqOIMU1flGjj"
      }
    },
    {
      "cell_type": "code",
      "source": [
        "def get_top_matches(query, top_n=5):\n",
        "    cosine_similarities = find_similar_offers(query)\n",
        "    top_indices = cosine_similarities.argsort()[-top_n:][::-1]\n",
        "    top_matches = offer_retailer_df.iloc[top_indices]\n",
        "    top_scores = cosine_similarities[top_indices]\n",
        "    return top_matches, top_scores\n",
        "\n",
        "#Test and Examples\n",
        "top_offers, scores = get_top_matches('hair color', top_n=5)\n",
        "for offer, score in zip(top_offers['OFFER'], scores):\n",
        "    print(f\"Offer: {offer}, Score: {score}\")\n"
      ],
      "metadata": {
        "colab": {
          "base_uri": "https://localhost:8080/"
        },
        "id": "Iqf7Micmf5zo",
        "outputId": "ca760cc8-7743-40cf-8289-e92e5f0965c4"
      },
      "execution_count": 10,
      "outputs": [
        {
          "output_type": "stream",
          "name": "stdout",
          "text": [
            "Offer: loréal paris hair color select variety spend 9 target, Score: 0.6221508599711729\n",
            "Offer: loréal paris hair color select variety spend 25 target, Score: 0.5709308341966226\n",
            "Offer: loréal paris excellence hair color target, Score: 0.5703850058255\n",
            "Offer: loréal paris hair color select variety spend 19 target, Score: 0.5490325427051232\n",
            "Offer: loréal paris men expert hair color spend 9 walmart, Score: 0.526288084399303\n"
          ]
        }
      ]
    },
    {
      "cell_type": "code",
      "source": [],
      "metadata": {
        "id": "XaYEqxh3f52F"
      },
      "execution_count": 10,
      "outputs": []
    }
  ]
}